{
 "cells": [
  {
   "cell_type": "code",
   "execution_count": 22,
   "id": "774955be-dae5-4637-869b-a5c958e3e395",
   "metadata": {},
   "outputs": [],
   "source": [
    "#匯入regex套件\n",
    "import re"
   ]
  },
  {
   "cell_type": "code",
   "execution_count": 41,
   "id": "bd5df8a4-c2a9-456d-b040-4e00f01167d4",
   "metadata": {},
   "outputs": [
    {
     "name": "stdout",
     "output_type": "stream",
     "text": [
      "['1', '1']\n",
      "1\n",
      "1\n"
     ]
    }
   ],
   "source": [
    "#search\n",
    "regex01 = r\"[A-Za-z]([12])\\d{8}\"\n",
    "string01 = \"S132083522,A132083521\"\n",
    "match02= re.findall(regex01,string01)\n",
    "print(match02)\n",
    "print(match02[0])\n",
    "print(match02[1])"
   ]
  },
  {
   "cell_type": "code",
   "execution_count": 42,
   "id": "89e2d2d7-a026-4afe-967d-66dd8f3a3e42",
   "metadata": {},
   "outputs": [
    {
     "name": "stdout",
     "output_type": "stream",
     "text": [
      "2\n"
     ]
    }
   ],
   "source": [
    "import re\n",
    "\n",
    "regex01 = r\"[A-Za-z]([12])\\d{8}\"\n",
    "string01 = \"S132083522,A232083521\"\n",
    "matches = re.findall(regex01, string01)\n",
    "\n",
    "if matches:\n",
    "   \n",
    "    print(matches[1])  # 输出列表中的第二个匹配结果\n",
    "else:\n",
    "    print(\"No match found\")"
   ]
  },
  {
   "cell_type": "code",
   "execution_count": 43,
   "id": "f73ffd9a-b313-435f-855b-4c9c107c85a1",
   "metadata": {},
   "outputs": [
    {
     "name": "stdout",
     "output_type": "stream",
     "text": [
      "['09111111', '092222222', '093333333']\n",
      "09111111\n",
      "092222222\n"
     ]
    }
   ],
   "source": [
    "#findall\n",
    "regex02 = r'[0-9]+'\n",
    "string02 = \"09111111, 092222222, 093333333\"\n",
    "listmatch02 = re.findall(regex02, string02)\n",
    "print(listmatch02)\n",
    "print(listmatch02[0])\n",
    "print(listmatch02[1])"
   ]
  },
  {
   "cell_type": "code",
   "execution_count": 44,
   "id": "f5618364-d81f-42c8-bbac-0dc2db2ce715",
   "metadata": {},
   "outputs": [],
   "source": [
    "#finditer\n",
    "regex03 = r']0-9]+'\n",
    "string03 = \"0911111111, 092222222, 0933333333\"\n",
    "iterableMatch03 = re.finditer(regex03, string03)\n",
    "if iterableMatch03 != None:\n",
    "    for match in iterableMatch03:\n",
    "        print(match[0])\n",
    "        "
   ]
  },
  {
   "cell_type": "code",
   "execution_count": 45,
   "id": "6b2d9e44-ce0a-468e-89ba-b7265f6e50f0",
   "metadata": {},
   "outputs": [
    {
     "name": "stdout",
     "output_type": "stream",
     "text": [
      "None\n"
     ]
    },
    {
     "ename": "TypeError",
     "evalue": "'NoneType' object is not subscriptable",
     "output_type": "error",
     "traceback": [
      "\u001b[1;31m---------------------------------------------------------------------------\u001b[0m",
      "\u001b[1;31mTypeError\u001b[0m                                 Traceback (most recent call last)",
      "Cell \u001b[1;32mIn[45], line 6\u001b[0m\n\u001b[0;32m      4\u001b[0m match04 \u001b[38;5;241m=\u001b[39m re\u001b[38;5;241m.\u001b[39mmatch(regex04, string04)\n\u001b[0;32m      5\u001b[0m \u001b[38;5;28mprint\u001b[39m(match04)\n\u001b[1;32m----> 6\u001b[0m \u001b[38;5;28mprint\u001b[39m(match04[\u001b[38;5;241m0\u001b[39m])\n\u001b[0;32m      7\u001b[0m \u001b[38;5;28mprint\u001b[39m(match04[\u001b[38;5;241m1\u001b[39m])\n",
      "\u001b[1;31mTypeError\u001b[0m: 'NoneType' object is not subscriptable"
     ]
    }
   ],
   "source": [
    "#Match\n",
    "regex04 = r'[0-9]{3}\\/[0-1]?[0-9]{1}\\/([0-3]?[0-9])'\n",
    "string04 = \"2024/06/30\"\n",
    "match04 = re.match(regex04, string04)\n",
    "print(match04)\n",
    "print(match04[0])\n",
    "print(match04[1])"
   ]
  },
  {
   "cell_type": "code",
   "execution_count": 46,
   "id": "15522249-0396-40c6-a827-c44019f107b5",
   "metadata": {},
   "outputs": [
    {
     "name": "stdout",
     "output_type": "stream",
     "text": [
      "['one', 'two', 'three', 'four', '']\n"
     ]
    }
   ],
   "source": [
    "#split\n",
    "regex06 = r'\\d'\n",
    "string06 = \"one1two2three3four4\"\n",
    "listmatch06 = re.split(regex06, string06)\n",
    "print(listmatch06)"
   ]
  },
  {
   "cell_type": "code",
   "execution_count": 47,
   "id": "835e007c-b515-4cd3-a1c0-4729e062dcef",
   "metadata": {},
   "outputs": [
    {
     "name": "stdout",
     "output_type": "stream",
     "text": [
      "\n"
     ]
    }
   ],
   "source": [
    "#sub\n",
    "regex07 = r''\n",
    "string07 = \"2022-02-14 #1314\"\n",
    "strResult = re.sub(regex07,\"\", string07)\n",
    "listMatch07 = re.findall(regex07, string07)\n",
    "print(''.join(listMatch07) )"
   ]
  },
  {
   "cell_type": "code",
   "execution_count": null,
   "id": "3aadf209-2f8e-48bd-a0e1-d140287aacc2",
   "metadata": {},
   "outputs": [],
   "source": []
  }
 ],
 "metadata": {
  "kernelspec": {
   "display_name": "Python 3 (ipykernel)",
   "language": "python",
   "name": "python3"
  },
  "language_info": {
   "codemirror_mode": {
    "name": "ipython",
    "version": 3
   },
   "file_extension": ".py",
   "mimetype": "text/x-python",
   "name": "python",
   "nbconvert_exporter": "python",
   "pygments_lexer": "ipython3",
   "version": "3.11.7"
  }
 },
 "nbformat": 4,
 "nbformat_minor": 5
}
