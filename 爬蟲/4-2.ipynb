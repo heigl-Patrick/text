{
 "cells": [
  {
   "cell_type": "code",
   "execution_count": 2,
   "id": "800372d6-16e5-41c3-aaf3-56e008986c20",
   "metadata": {},
   "outputs": [],
   "source": [
    "#匯入套件\n",
    "from urllib import parse"
   ]
  },
  {
   "cell_type": "code",
   "execution_count": 3,
   "id": "133e3f03-e5b7-484c-bf56-c71c956bdee5",
   "metadata": {},
   "outputs": [
    {
     "name": "stdout",
     "output_type": "stream",
     "text": [
      "a%3D1%26b%3D2\n"
     ]
    }
   ],
   "source": [
    "#編碼 parse.quote()\n",
    "result01 = parse.quote(\"a=1&b=2\")\n",
    "print(result01)"
   ]
  },
  {
   "cell_type": "code",
   "execution_count": 4,
   "id": "7bbd8e27-151f-49d4-9afc-544576bbafec",
   "metadata": {},
   "outputs": [
    {
     "name": "stdout",
     "output_type": "stream",
     "text": [
      "a=1&b=2\n"
     ]
    }
   ],
   "source": [
    "#解碼 parse.unquote()\n",
    "relsute02 = parse.unquote(\"a%3D1%26b%3D2\")\n",
    "print(relsute02)"
   ]
  },
  {
   "cell_type": "code",
   "execution_count": null,
   "id": "24120876-f2ae-4228-8760-20ebe52a620d",
   "metadata": {},
   "outputs": [],
   "source": []
  }
 ],
 "metadata": {
  "kernelspec": {
   "display_name": "Python 3 (ipykernel)",
   "language": "python",
   "name": "python3"
  },
  "language_info": {
   "codemirror_mode": {
    "name": "ipython",
    "version": 3
   },
   "file_extension": ".py",
   "mimetype": "text/x-python",
   "name": "python",
   "nbconvert_exporter": "python",
   "pygments_lexer": "ipython3",
   "version": "3.11.7"
  }
 },
 "nbformat": 4,
 "nbformat_minor": 5
}
