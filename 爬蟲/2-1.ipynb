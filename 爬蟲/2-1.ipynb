{
 "cells": [
  {
   "cell_type": "code",
   "execution_count": 1,
   "id": "fbd41518-c320-4402-80c6-17c9c15e68fd",
   "metadata": {},
   "outputs": [
    {
     "name": "stdout",
     "output_type": "stream",
     "text": [
      "1,2,3,4\n"
     ]
    }
   ],
   "source": [
    "#初始化\n",
    "string01 = \"1,2,3,4\"\n",
    "print(string01)"
   ]
  },
  {
   "cell_type": "code",
   "execution_count": 2,
   "id": "47ae91ab-4e9e-484f-b781-4bc95427d4a3",
   "metadata": {},
   "outputs": [
    {
     "name": "stdout",
     "output_type": "stream",
     "text": [
      "1\n"
     ]
    }
   ],
   "source": [
    "#字串分割\n",
    "\n",
    "list01 =string01.split(\",\")\n",
    "print(list01[0])"
   ]
  },
  {
   "cell_type": "code",
   "execution_count": 3,
   "id": "a13d66a9-8ea3-42c9-b6a6-8893828129fd",
   "metadata": {},
   "outputs": [
    {
     "name": "stdout",
     "output_type": "stream",
     "text": [
      "1-2-3-4\n",
      "1234\n"
     ]
    }
   ],
   "source": [
    "string02 = '-'.join(list01)\n",
    "print(string02)\n",
    "string02 = ''.join(list01)\n",
    "print(string02)"
   ]
  },
  {
   "cell_type": "code",
   "execution_count": 4,
   "id": "3e0eea5b-7e9e-4173-8dae-5e3ea78d3b9c",
   "metadata": {},
   "outputs": [
    {
     "name": "stdout",
     "output_type": "stream",
     "text": [
      "5\n"
     ]
    }
   ],
   "source": [
    "#搜索字串\n",
    "string03 = 'believe'\n",
    "result03 = string03.find('v')\n",
    "print(result03)"
   ]
  },
  {
   "cell_type": "code",
   "execution_count": 5,
   "id": "48cf3bb1-cae1-4992-88b5-1d6688855187",
   "metadata": {},
   "outputs": [
    {
     "name": "stdout",
     "output_type": "stream",
     "text": [
      "Allen\n"
     ]
    }
   ],
   "source": [
    "#替換字串\n",
    "string04 = 'Alex'\n",
    "string04 = string04.replace('lex','llen')\n",
    "print(string04)"
   ]
  },
  {
   "cell_type": "code",
   "execution_count": 6,
   "id": "9ab8f6f1-a937-413c-af82-deb6dae7aceb",
   "metadata": {},
   "outputs": [
    {
     "name": "stdout",
     "output_type": "stream",
     "text": [
      "car\n"
     ]
    }
   ],
   "source": [
    "#字串變小寫\n",
    "print(\"CAR\".lower())"
   ]
  },
  {
   "cell_type": "code",
   "execution_count": 7,
   "id": "92b8eb0e-0e51-4f8c-9113-18385d3386e9",
   "metadata": {},
   "outputs": [
    {
     "name": "stdout",
     "output_type": "stream",
     "text": [
      "GOOD\n"
     ]
    }
   ],
   "source": [
    "#字串變大寫\n",
    "print(\"good\".upper())"
   ]
  },
  {
   "cell_type": "code",
   "execution_count": 8,
   "id": "b0cac738-504f-4e74-a511-4a7ebcb41f9d",
   "metadata": {},
   "outputs": [
    {
     "name": "stdout",
     "output_type": "stream",
     "text": [
      "      ___cccc__   \n",
      "___cccc__   \n"
     ]
    }
   ],
   "source": [
    "#去除字串左邊空格\n",
    "string05 = \"      ___cccc__   \"\n",
    "print(string05)\n",
    "print(string05.lstrip())"
   ]
  },
  {
   "cell_type": "code",
   "execution_count": 9,
   "id": "d71d1627-2529-4f6a-80c8-928d110ed483",
   "metadata": {},
   "outputs": [
    {
     "name": "stdout",
     "output_type": "stream",
     "text": [
      "      ___cccc__     \n",
      "      ___cccc__\n"
     ]
    }
   ],
   "source": [
    "#去除右邊字串空格\n",
    "string06 = \"      ___cccc__     \"\n",
    "print(string06)\n",
    "print(string06.rstrip())"
   ]
  },
  {
   "cell_type": "code",
   "execution_count": 10,
   "id": "76425ad8-fcb2-4814-b34f-56c0e2fbc345",
   "metadata": {},
   "outputs": [
    {
     "name": "stdout",
     "output_type": "stream",
     "text": [
      "      ___cccc__     \n",
      "___cccc__\n"
     ]
    }
   ],
   "source": [
    "#去除兩邊字串空格\n",
    "string07 = \"      ___cccc__     \"\n",
    "print(string07)\n",
    "print(string07.strip())"
   ]
  },
  {
   "cell_type": "code",
   "execution_count": null,
   "id": "319c88b3-7075-4c96-8498-3cf7e777e5c3",
   "metadata": {},
   "outputs": [],
   "source": []
  }
 ],
 "metadata": {
  "kernelspec": {
   "display_name": "Python 3 (ipykernel)",
   "language": "python",
   "name": "python3"
  },
  "language_info": {
   "codemirror_mode": {
    "name": "ipython",
    "version": 3
   },
   "file_extension": ".py",
   "mimetype": "text/x-python",
   "name": "python",
   "nbconvert_exporter": "python",
   "pygments_lexer": "ipython3",
   "version": "3.11.7"
  }
 },
 "nbformat": 4,
 "nbformat_minor": 5
}
