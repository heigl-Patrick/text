{
 "cells": [
  {
   "cell_type": "code",
   "execution_count": 8,
   "id": "be0e2bd3-2d4c-4ff2-8952-2f68e41eb643",
   "metadata": {},
   "outputs": [
    {
     "name": "stdout",
     "output_type": "stream",
     "text": [
      "1,\n",
      "2,\n",
      "3,\n",
      "4,\n",
      "5,\n"
     ]
    }
   ],
   "source": [
    "#while迴圈\n",
    "count = 1\n",
    "while count <= 5:\n",
    "    print(count, end=\",\\n\")\n",
    "    count = count + 1"
   ]
  },
  {
   "cell_type": "code",
   "execution_count": 9,
   "id": "a79997e8-1a7d-459b-9396-60072a4654c4",
   "metadata": {},
   "outputs": [
    {
     "name": "stdout",
     "output_type": "stream",
     "text": [
      "5,6,7,"
     ]
    }
   ],
   "source": [
    "#for迴圈 01\n",
    "'''\n",
    "range(n,m-1)\n",
    "'''\n",
    "for i in range(5, 8):\n",
    "    print(i, end=\",\")"
   ]
  },
  {
   "cell_type": "code",
   "execution_count": 10,
   "id": "9626c432-5cbf-42ee-965a-06f6df196487",
   "metadata": {},
   "outputs": [
    {
     "name": "stdout",
     "output_type": "stream",
     "text": [
      "5,7,9,11,13,15,17,19,"
     ]
    }
   ],
   "source": [
    "#for迴圈 02\n",
    "'''\n",
    "range(n,m-1,step)\n",
    "以step為間距\n",
    "'''\n",
    "for i in range(5, 20, 2):\n",
    "    print(i, end=\",\")"
   ]
  },
  {
   "cell_type": "code",
   "execution_count": null,
   "id": "e4051bca-4951-4339-a70e-3d81c2ebba2c",
   "metadata": {},
   "outputs": [],
   "source": []
  }
 ],
 "metadata": {
  "kernelspec": {
   "display_name": "Python 3 (ipykernel)",
   "language": "python",
   "name": "python3"
  },
  "language_info": {
   "codemirror_mode": {
    "name": "ipython",
    "version": 3
   },
   "file_extension": ".py",
   "mimetype": "text/x-python",
   "name": "python",
   "nbconvert_exporter": "python",
   "pygments_lexer": "ipython3",
   "version": "3.11.7"
  }
 },
 "nbformat": 4,
 "nbformat_minor": 5
}
