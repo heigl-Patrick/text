{
 "cells": [
  {
   "cell_type": "code",
   "execution_count": 10,
   "id": "339f8ce6-04c7-4006-9352-7cdf5e438a67",
   "metadata": {},
   "outputs": [
    {
     "name": "stdout",
     "output_type": "stream",
     "text": [
      "20\n",
      "1.110000\n",
      "11.1\n",
      "my name is darrn\n"
     ]
    }
   ],
   "source": [
    "#百分比(%)\n",
    "print('%d' % 20)#格式化整數\n",
    "print('%f' %1.11)#預設保留6位小數\n",
    "print('%.1f' %11.11)#取1位小數\n",
    "print('my name is %s' %  'darrn')#字串鑲嵌進%s"
   ]
  },
  {
   "cell_type": "code",
   "execution_count": 14,
   "id": "8d3d6ff3-ab2d-4aa6-b0ba-bb8a4d7f19e0",
   "metadata": {},
   "outputs": [
    {
     "name": "stdout",
     "output_type": "stream",
     "text": [
      "my name is Darren and my age is 18\n"
     ]
    }
   ],
   "source": [
    "#string.format() => 做法:'{}'.format()\n",
    "name = 'Darren'\n",
    "age = 18\n",
    "str01 = \"my name is {} and my age is {}\".format(name,age)\n",
    "print(str01)"
   ]
  },
  {
   "cell_type": "code",
   "execution_count": 18,
   "id": "4654b110-1f1d-416d-ab03-7a89e05bf160",
   "metadata": {},
   "outputs": [
    {
     "name": "stdout",
     "output_type": "stream",
     "text": [
      "my name is Darren and my age is 18\n"
     ]
    }
   ],
   "source": [
    "#f-string(又叫做formatted string literals, version >=3.6)\n",
    "name = 'Darren'\n",
    "age = 18\n",
    "str02 = f\"my name is {name} and my age is {age}\"\n",
    "print(str02)"
   ]
  },
  {
   "cell_type": "code",
   "execution_count": null,
   "id": "f2806412-d666-4cab-80f1-66877a29a30b",
   "metadata": {},
   "outputs": [],
   "source": []
  }
 ],
 "metadata": {
  "kernelspec": {
   "display_name": "Python 3 (ipykernel)",
   "language": "python",
   "name": "python3"
  },
  "language_info": {
   "codemirror_mode": {
    "name": "ipython",
    "version": 3
   },
   "file_extension": ".py",
   "mimetype": "text/x-python",
   "name": "python",
   "nbconvert_exporter": "python",
   "pygments_lexer": "ipython3",
   "version": "3.11.7"
  }
 },
 "nbformat": 4,
 "nbformat_minor": 5
}
