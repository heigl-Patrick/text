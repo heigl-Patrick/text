{
 "cells": [
  {
   "cell_type": "code",
   "execution_count": 6,
   "id": "9cf713ee-c57d-452f-a0fb-f0e874250818",
   "metadata": {},
   "outputs": [],
   "source": [
    "from bs4 import BeautifulSoup as bs\n",
    "import requests\n",
    "#ptt nba版\n",
    "url = 'https://www.ptt.cc/bbs/NBA/index.html'\n",
    "#用requests的get方法取的網頁html\n",
    "response = requests.get(url)\n",
    "#指定lxml為解析器\n",
    "soup = bs(response.text, \"lxml\")"
   ]
  },
  {
   "cell_type": "code",
   "execution_count": 12,
   "id": "d881611f-fb95-4194-bf9d-72d2f2ae2b93",
   "metadata": {},
   "outputs": [
    {
     "name": "stdout",
     "output_type": "stream",
     "text": [
      "看板 NBA 文章列表 - 批踢踢實業坊\n",
      "批踢踢實業坊\n"
     ]
    }
   ],
   "source": [
    "#取得單一節點的文字內容(select_one會回傳單一be element 物件 select會回傳list)\n",
    "print(soup.select_one('title').get_text())\n",
    "print(soup.select('a')[0].get_text())"
   ]
  },
  {
   "cell_type": "raw",
   "id": "130d3da2-32e5-4c50-a252-ae6e9085c11d",
   "metadata": {},
   "source": [
    "#透過蝶代取的所有的A的文字內容\n",
    "for a in soup.select('a'):\n",
    "    print(a.get_text())"
   ]
  },
  {
   "cell_type": "code",
   "execution_count": 16,
   "id": "e53b1ec9-b1b2-4b3b-97e6-2ce298ceeab2",
   "metadata": {},
   "outputs": [
    {
     "name": "stdout",
     "output_type": "stream",
     "text": [
      "/bbs/\n",
      "/bbs/NBA/index.html\n",
      "/about.html\n",
      "/contact.html\n",
      "/bbs/NBA/index.html\n",
      "/man/NBA/index.html\n",
      "/bbs/NBA/index1.html\n",
      "/bbs/NBA/index6511.html\n",
      "==================================================\n",
      "連結[下頁 ›]沒有href屬性\n",
      "**************************************************\n",
      "/bbs/NBA/index.html\n",
      "/bbs/NBA/M.1712810277.A.7B3.html\n",
      "/bbs/NBA/search?q=thread%3A%5BBOX+%5D+Timberwolves+107%3A116+Nuggets+%E6%95%B8%E6%93%9A\n",
      "/bbs/NBA/search?q=author%3ARambo\n",
      "/bbs/NBA/M.1712810788.A.B46.html\n",
      "/bbs/NBA/search?q=thread%3A%5BBOX+%5D+Suns+124%3A108+Clippers+%E6%95%B8%E6%93%9A\n",
      "/bbs/NBA/search?q=author%3ARambo\n",
      "/bbs/NBA/M.1712810817.A.831.html\n",
      "/bbs/NBA/search?q=thread%3A%5B%E6%83%85%E5%A0%B1%5D+Bones+Hyland%E7%A0%8D%E4%B8%8B%E7%94%9F%E6%B6%AF%E6%96%B0%E9%AB%9837%E5%88%86\n",
      "/bbs/NBA/search?q=author%3Alove1500274\n",
      "/bbs/NBA/M.1712811186.A.F06.html\n",
      "/bbs/NBA/search?q=thread%3A%5B%E6%83%85%E5%A0%B1%5D+%E6%B9%96%E4%BA%BA%E3%80%81%E5%8B%87%E5%A3%AB%E7%A2%BA%E5%AE%9A%E6%89%93Play-in\n",
      "/bbs/NBA/search?q=author%3Ahanson90244\n",
      "/bbs/NBA/M.1712811669.A.0AB.html\n",
      "/bbs/NBA/search?q=thread%3A%5B%E6%83%85%E5%A0%B1%5D+NBA+Standings+%28Apr.+11%2C+2024%29\n",
      "/bbs/NBA/search?q=author%3Aguardyo\n",
      "/bbs/NBA/M.1712812214.A.725.html\n",
      "/bbs/NBA/search?q=thread%3A%5B%E8%8A%B1%E9%82%8A%5D+%22%E4%BB%80%E9%BA%BC%E6%99%82%E5%80%99%E6%BA%96%E5%82%99%E6%89%93%E5%B0%8F%E7%89%9B%22+Lue%3A%E6%88%91%E5%B7%B2%E7%B6%93%E9%96%8B%E5%A7%8B%E4%BA%86\n",
      "/bbs/NBA/search?q=author%3Apneumo\n",
      "/bbs/NBA/M.1712812960.A.DE9.html\n",
      "/bbs/NBA/search?q=thread%3A%5B%E8%8A%B1%E9%82%8A%5D+%E5%98%B4%E7%B6%A0%EF%BC%9ABronny+100%25%E6%9C%83%E6%88%90%E5%8A%9F\n",
      "/bbs/NBA/search?q=author%3Awai0806\n",
      "/bbs/NBA/M.1712814085.A.D55.html\n",
      "/bbs/NBA/search?q=thread%3A%5B%E8%8A%B1%E9%82%8A%5D+Brad+Stevens%E4%B8%8A%E4%BB%BBGM%E5%BE%8C%E5%81%9A%E7%9A%84%E4%BA%8B%E6%83%85\n",
      "/bbs/NBA/search?q=author%3Ajeff1013\n",
      "/bbs/NBA/M.1712814372.A.584.html\n",
      "/bbs/NBA/search?q=thread%3A%5B%E5%85%AC%E5%91%8A%5D+NBA+%E6%9D%BF+%E9%96%8B%E5%A7%8B%E8%88%89%E8%BE%A6%E6%A8%82%E9%80%8F%21\n",
      "/bbs/NBA/search?q=author%3AZIDENS\n",
      "/bbs/NBA/M.1712814689.A.058.html\n",
      "/bbs/NBA/search?q=thread%3A%5B%E6%83%85%E5%A0%B1%5D+2024+NBA%E5%AD%A3%E5%BE%8C%E8%B3%BD%E5%8F%8A%E6%A8%82%E9%80%8F%E9%87%8D%E8%A6%81%E6%99%82%E7%A8%8B\n",
      "/bbs/NBA/search?q=author%3Arobinkidd\n",
      "/bbs/NBA/M.1712815480.A.D26.html\n",
      "/bbs/NBA/search?q=thread%3A%5B%E8%8A%B1%E9%82%8A%5D+%E5%98%B4%E7%B6%A0%EF%BC%9A%E6%88%91%E8%A2%AB%E6%89%93%E9%83%BD%E6%B2%92%E4%BA%BA%E7%9C%8B%E5%88%B0\n",
      "/bbs/NBA/search?q=author%3ASkyblueway\n",
      "/bbs/NBA/M.1669686360.A.504.html\n",
      "/bbs/NBA/search?q=thread%3A%5B%E5%85%AC%E5%91%8A%5D+%E6%9D%BF%E8%A6%8F10.1\n",
      "/bbs/NBA/search?q=author%3AEZ78\n",
      "/bbs/NBA/M.1711852000.A.0C9.html\n",
      "/bbs/NBA/search?q=thread%3A%5B%E6%83%85%E5%A0%B1%5D+2023-24+Schedule+%2803%2F30~%29\n",
      "/bbs/NBA/search?q=author%3Aguardyo\n",
      "/bbs/NBA/M.1712551703.A.3EC.html\n",
      "/bbs/NBA/search?q=thread%3A%5B%E5%85%AC%E5%91%8A%5D+%E5%AD%A3%E5%BE%8C%E8%B3%BD%E6%A2%9D%E6%AC%BE\n",
      "/bbs/NBA/search?q=author%3AEZ78\n",
      "/bbs/NBA/M.1712811669.A.0AB.html\n",
      "/bbs/NBA/search?q=thread%3A%5B%E6%83%85%E5%A0%B1%5D+NBA+Standings+%28Apr.+11%2C+2024%29\n",
      "/bbs/NBA/search?q=author%3Aguardyo\n",
      "/bbs/NBA/M.1712814372.A.584.html\n",
      "/bbs/NBA/search?q=thread%3A%5B%E5%85%AC%E5%91%8A%5D+NBA+%E6%9D%BF+%E9%96%8B%E5%A7%8B%E8%88%89%E8%BE%A6%E6%A8%82%E9%80%8F%21\n",
      "/bbs/NBA/search?q=author%3AZIDENS\n"
     ]
    }
   ],
   "source": [
    "#透過蝶待取得所有a的屬性href\n",
    "for a in soup.select('a'):\n",
    "    if a.has_attr('href'):\n",
    "        print(a['href'])\n",
    "    else:\n",
    "        print(\"=\" * 50)\n",
    "        print(f\"連結[{a.get_text()}]沒有href屬性\")\n",
    "        print(\"*\" *50)\n",
    "        "
   ]
  },
  {
   "cell_type": "code",
   "execution_count": null,
   "id": "7ae45656-d734-4408-a575-b5d9cc5f9f7e",
   "metadata": {},
   "outputs": [],
   "source": []
  }
 ],
 "metadata": {
  "kernelspec": {
   "display_name": "Python 3 (ipykernel)",
   "language": "python",
   "name": "python3"
  },
  "language_info": {
   "codemirror_mode": {
    "name": "ipython",
    "version": 3
   },
   "file_extension": ".py",
   "mimetype": "text/x-python",
   "name": "python",
   "nbconvert_exporter": "python",
   "pygments_lexer": "ipython3",
   "version": "3.11.7"
  }
 },
 "nbformat": 4,
 "nbformat_minor": 5
}
