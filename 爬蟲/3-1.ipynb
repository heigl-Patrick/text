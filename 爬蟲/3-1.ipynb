{
 "cells": [
  {
   "cell_type": "code",
   "execution_count": 1,
   "id": "12249c06-6f58-44df-a3cc-74e9c20439f4",
   "metadata": {},
   "outputs": [
    {
     "name": "stdout",
     "output_type": "stream",
     "text": [
      "num大於5\n"
     ]
    }
   ],
   "source": [
    "#if敘述\n",
    "num = 10\n",
    "if num > 5:\n",
    "    print(\"num大於5\")"
   ]
  },
  {
   "cell_type": "code",
   "execution_count": 3,
   "id": "e1e82053-3777-4def-b6ec-a4e27954c753",
   "metadata": {},
   "outputs": [
    {
     "name": "stdout",
     "output_type": "stream",
     "text": [
      "名稱不是apple\n"
     ]
    }
   ],
   "source": [
    "#If else敘述\n",
    "name = 'apple'\n",
    "\n",
    "if name == 'apple':\n",
    "    print(\"名稱是apple\")\n",
    "else:\n",
    "    print(\"名稱不是apple\")"
   ]
  },
  {
   "cell_type": "code",
   "execution_count": 5,
   "id": "ebb652a6-9773-4cf4-abb6-c0f6035453df",
   "metadata": {},
   "outputs": [
    {
     "name": "stdout",
     "output_type": "stream",
     "text": [
      "名稱bill\n"
     ]
    }
   ],
   "source": [
    "#if elif else\n",
    "name = 'bill'\n",
    "if name ==\"darren\":\n",
    "    print(\"名稱darren\")\n",
    "elif name ==\"alex\":\n",
    "    print(\"名稱alex\")\n",
    "elif name ==\"bill\":\n",
    "    print(\"名稱bill\")\n",
    "else:\n",
    "    print(\"not found\")"
   ]
  },
  {
   "cell_type": "code",
   "execution_count": null,
   "id": "27868f18-8216-4705-9f69-8afb15466ce9",
   "metadata": {},
   "outputs": [],
   "source": []
  }
 ],
 "metadata": {
  "kernelspec": {
   "display_name": "Python 3 (ipykernel)",
   "language": "python",
   "name": "python3"
  },
  "language_info": {
   "codemirror_mode": {
    "name": "ipython",
    "version": 3
   },
   "file_extension": ".py",
   "mimetype": "text/x-python",
   "name": "python",
   "nbconvert_exporter": "python",
   "pygments_lexer": "ipython3",
   "version": "3.11.7"
  }
 },
 "nbformat": 4,
 "nbformat_minor": 5
}
