{
 "cells": [
  {
   "cell_type": "code",
   "execution_count": 1,
   "id": "6202710c-afdd-4758-80ee-8aa723911dfa",
   "metadata": {},
   "outputs": [],
   "source": [
    "from bs4 import BeautifulSoup as bs\n",
    "import requests as rq"
   ]
  },
  {
   "cell_type": "code",
   "execution_count": 12,
   "id": "5635fb78-782c-4f4a-9d0e-7321af442304",
   "metadata": {},
   "outputs": [],
   "source": [
    "url = 'https://www.iii.org.tw/Press/NewsList.aspx?fm_sqno=14'\n",
    "response = rq.get(url)\n",
    "soup = bs(response.text,\"lxml\")"
   ]
  },
  {
   "cell_type": "code",
   "execution_count": 18,
   "id": "f93fcef8-1c0f-4083-843b-1cf5c339fbb1",
   "metadata": {},
   "outputs": [],
   "source": [
    "for a in soup.select('acticle div.thebottom div.newstitle a'):\n",
    "    print(a.get_text())"
   ]
  },
  {
   "cell_type": "code",
   "execution_count": null,
   "id": "e261b659-851e-47fc-b3cc-88667fd62d55",
   "metadata": {},
   "outputs": [],
   "source": []
  }
 ],
 "metadata": {
  "kernelspec": {
   "display_name": "Python 3 (ipykernel)",
   "language": "python",
   "name": "python3"
  },
  "language_info": {
   "codemirror_mode": {
    "name": "ipython",
    "version": 3
   },
   "file_extension": ".py",
   "mimetype": "text/x-python",
   "name": "python",
   "nbconvert_exporter": "python",
   "pygments_lexer": "ipython3",
   "version": "3.11.7"
  }
 },
 "nbformat": 4,
 "nbformat_minor": 5
}
