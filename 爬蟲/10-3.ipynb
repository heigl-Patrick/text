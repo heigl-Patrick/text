{
 "cells": [
  {
   "cell_type": "code",
   "execution_count": null,
   "id": "c7c63886-ae09-4891-bc58-6c56f37fbdfd",
   "metadata": {},
   "outputs": [],
   "source": [
    "#匯入套件\n",
    "import requests, json\n",
    "#https://data.taipei/\n",
    "r = requests.get('https://data.taipei/#/application')\n",
    "#將jsom 轉成物件(dict)\n",
    "obj = json.loads(r.text)\n",
    "print(obj['results'][0]['ShowGroupName'])"
   ]
  },
  {
   "cell_type": "code",
   "execution_count": null,
   "id": "ee5ba3bb-c2ed-431e-a7ad-38ae4ef28ff2",
   "metadata": {},
   "outputs": [],
   "source": [
    "print(\"=\" * 50)\n"
   ]
  },
  {
   "cell_type": "code",
   "execution_count": null,
   "id": "8d68db87-40d6-48ea-b995-b7da7b1d6aaa",
   "metadata": {},
   "outputs": [],
   "source": []
  }
 ],
 "metadata": {
  "kernelspec": {
   "display_name": "Python 3 (ipykernel)",
   "language": "python",
   "name": "python3"
  },
  "language_info": {
   "codemirror_mode": {
    "name": "ipython",
    "version": 3
   },
   "file_extension": ".py",
   "mimetype": "text/x-python",
   "name": "python",
   "nbconvert_exporter": "python",
   "pygments_lexer": "ipython3",
   "version": "3.11.7"
  }
 },
 "nbformat": 4,
 "nbformat_minor": 5
}
