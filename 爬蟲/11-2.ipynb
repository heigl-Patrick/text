{
 "cells": [
  {
   "cell_type": "code",
   "execution_count": 10,
   "id": "716504a5-fd4a-4192-aec1-84d6cc3c2a1d",
   "metadata": {},
   "outputs": [],
   "source": [
    "from bs4 import BeautifulSoup as bs\n",
    "import requests"
   ]
  },
  {
   "cell_type": "code",
   "execution_count": 14,
   "id": "b5ae6231-38ba-4a14-8ab6-d7738d11807e",
   "metadata": {},
   "outputs": [],
   "source": [
    "#PTT NBA 版\n",
    "url = \"https://www.ptt.cc/bbs/NBA/index.html\"\n",
    "#用requests 的get方式，取的網頁html\n",
    "response = requests.get(url)\n",
    "#指定LxmL作為解析器\n",
    "soup = bs(response.text, \"lxml\")\n"
   ]
  },
  {
   "cell_type": "code",
   "execution_count": 19,
   "id": "8d1ec411-8a8d-4354-a580-cd0f351f84f6",
   "metadata": {},
   "outputs": [
    {
     "name": "stdout",
     "output_type": "stream",
     "text": [
      "[<div class=\"r-ent\">\n",
      "<div class=\"nrec\"><span class=\"hl f2\">6</span></div>\n",
      "<div class=\"title\">\n",
      "<a href=\"/bbs/NBA/M.1712562495.A.CAE.html\">[花邊] PG投出致勝分後，哈登表情憤怒!</a>\n",
      "</div>\n",
      "<div class=\"meta\">\n",
      "<div class=\"author\">LBJnot1to7</div>\n",
      "<div class=\"article-menu\">\n",
      "<div class=\"trigger\">⋯</div>\n",
      "<div class=\"dropdown\">\n",
      "<div class=\"item\"><a href=\"/bbs/NBA/search?q=thread%3A%5B%E8%8A%B1%E9%82%8A%5D+PG%E6%8A%95%E5%87%BA%E8%87%B4%E5%8B%9D%E5%88%86%E5%BE%8C%EF%BC%8C%E5%93%88%E7%99%BB%E8%A1%A8%E6%83%85%E6%86%A4%E6%80%92%21\">搜尋同標題文章</a></div>\n",
      "<div class=\"item\"><a href=\"/bbs/NBA/search?q=author%3ALBJnot1to7\">搜尋看板內 LBJnot1to7 的文章</a></div>\n",
      "</div>\n",
      "</div>\n",
      "<div class=\"date\"> 4/08</div>\n",
      "<div class=\"mark\"></div>\n",
      "</div>\n",
      "</div>, <div class=\"r-ent\">\n",
      "<div class=\"nrec\"></div>\n",
      "<div class=\"title\">\n",
      "<a href=\"/bbs/NBA/M.1669686360.A.504.html\">[公告] 板規10.1</a>\n",
      "</div>\n",
      "<div class=\"meta\">\n",
      "<div class=\"author\">EZ78</div>\n",
      "<div class=\"article-menu\">\n",
      "<div class=\"trigger\">⋯</div>\n",
      "<div class=\"dropdown\">\n",
      "<div class=\"item\"><a href=\"/bbs/NBA/search?q=thread%3A%5B%E5%85%AC%E5%91%8A%5D+%E6%9D%BF%E8%A6%8F10.1\">搜尋同標題文章</a></div>\n",
      "<div class=\"item\"><a href=\"/bbs/NBA/search?q=author%3AEZ78\">搜尋看板內 EZ78 的文章</a></div>\n",
      "</div>\n",
      "</div>\n",
      "<div class=\"date\">11/29</div>\n",
      "<div class=\"mark\">!</div>\n",
      "</div>\n",
      "</div>, <div class=\"r-ent\">\n",
      "<div class=\"nrec\"><span class=\"hl f3\">22</span></div>\n",
      "<div class=\"title\">\n",
      "<a href=\"/bbs/NBA/M.1711852000.A.0C9.html\">[情報] NBA Schedule 2023-24 (03/30~)</a>\n",
      "</div>\n",
      "<div class=\"meta\">\n",
      "<div class=\"author\">guardyo</div>\n",
      "<div class=\"article-menu\">\n",
      "<div class=\"trigger\">⋯</div>\n",
      "<div class=\"dropdown\">\n",
      "<div class=\"item\"><a href=\"/bbs/NBA/search?q=thread%3A%5B%E6%83%85%E5%A0%B1%5D+NBA+Schedule+2023-24+%2803%2F30~%29\">搜尋同標題文章</a></div>\n",
      "<div class=\"item\"><a href=\"/bbs/NBA/search?q=author%3Aguardyo\">搜尋看板內 guardyo 的文章</a></div>\n",
      "</div>\n",
      "</div>\n",
      "<div class=\"date\"> 3/31</div>\n",
      "<div class=\"mark\">M</div>\n",
      "</div>\n",
      "</div>, <div class=\"r-ent\">\n",
      "<div class=\"nrec\"><span class=\"hl f3\">60</span></div>\n",
      "<div class=\"title\">\n",
      "<a href=\"/bbs/NBA/M.1712550348.A.EF9.html\">[情報] NBA Standings (Apr. 08, 2024)</a>\n",
      "</div>\n",
      "<div class=\"meta\">\n",
      "<div class=\"author\">guardyo</div>\n",
      "<div class=\"article-menu\">\n",
      "<div class=\"trigger\">⋯</div>\n",
      "<div class=\"dropdown\">\n",
      "<div class=\"item\"><a href=\"/bbs/NBA/search?q=thread%3A%5B%E6%83%85%E5%A0%B1%5D+NBA+Standings+%28Apr.+08%2C+2024%29\">搜尋同標題文章</a></div>\n",
      "<div class=\"item\"><a href=\"/bbs/NBA/search?q=author%3Aguardyo\">搜尋看板內 guardyo 的文章</a></div>\n",
      "</div>\n",
      "</div>\n",
      "<div class=\"date\"> 4/08</div>\n",
      "<div class=\"mark\">M</div>\n",
      "</div>\n",
      "</div>, <div class=\"r-ent\">\n",
      "<div class=\"nrec\"><span class=\"hl f3\">29</span></div>\n",
      "<div class=\"title\">\n",
      "<a href=\"/bbs/NBA/M.1712551703.A.3EC.html\">[公告] 季後賽條款</a>\n",
      "</div>\n",
      "<div class=\"meta\">\n",
      "<div class=\"author\">EZ78</div>\n",
      "<div class=\"article-menu\">\n",
      "<div class=\"trigger\">⋯</div>\n",
      "<div class=\"dropdown\">\n",
      "<div class=\"item\"><a href=\"/bbs/NBA/search?q=thread%3A%5B%E5%85%AC%E5%91%8A%5D+%E5%AD%A3%E5%BE%8C%E8%B3%BD%E6%A2%9D%E6%AC%BE\">搜尋同標題文章</a></div>\n",
      "<div class=\"item\"><a href=\"/bbs/NBA/search?q=author%3AEZ78\">搜尋看板內 EZ78 的文章</a></div>\n",
      "</div>\n",
      "</div>\n",
      "<div class=\"date\"> 4/08</div>\n",
      "<div class=\"mark\">M</div>\n",
      "</div>\n",
      "</div>]\n",
      "<class 'bs4.element.ResultSet'>\n"
     ]
    }
   ],
   "source": [
    "#搜尋所有div 類別名稱為r-ent,回傳為list\n",
    "posts = soup.find_all(\"div\", class_= \"r-ent\")\n",
    "#印出list 內容\n",
    "print(posts)\n",
    "#檢視物件型態，在這裏是一個resultSet\n",
    "print( type (posts))"
   ]
  },
  {
   "cell_type": "code",
   "execution_count": 23,
   "id": "aa03e470-4c68-4d98-8536-2d081bf2b70c",
   "metadata": {},
   "outputs": [
    {
     "name": "stdout",
     "output_type": "stream",
     "text": [
      "[<div class=\"author\">LBJnot1to7</div>, <div class=\"author\">EZ78</div>, <div class=\"author\">guardyo</div>, <div class=\"author\">guardyo</div>, <div class=\"author\">EZ78</div>]\n"
     ]
    }
   ],
   "source": [
    "#建立一個空的list 來放置\n",
    "author_id = []\n",
    "#艘巡class name 為r-ent的div集合\n",
    "post = soup.find_all(\"div\", class_ = \"r-ent\")\n",
    "#透過迭代方式一個一個將author擷取回來\n",
    "for post in posts:\n",
    "    author_id.append(post.find(\"div\", class_ =\"author\"))\n",
    "print(author_id)\n"
   ]
  },
  {
   "cell_type": "code",
   "execution_count": 27,
   "id": "731a9cce-7542-4f36-bb0d-64f00ef72388",
   "metadata": {},
   "outputs": [
    {
     "name": "stdout",
     "output_type": "stream",
     "text": [
      "<title>看板 NBA 文章列表 - 批踢踢實業坊</title>\n",
      "[<a href=\"/bbs/\" id=\"logo\">批踢踢實業坊</a>, <a class=\"board\" href=\"/bbs/NBA/index.html\"><span class=\"board-label\">看板 </span>NBA</a>, <a class=\"right small\" href=\"/about.html\">關於我們</a>, <a class=\"right small\" href=\"/contact.html\">聯絡資訊</a>, <a class=\"btn selected\" href=\"/bbs/NBA/index.html\">看板</a>, <a class=\"btn\" href=\"/man/NBA/index.html\">精華區</a>, <a class=\"btn wide\" href=\"/bbs/NBA/index1.html\">最舊</a>, <a class=\"btn wide\" href=\"/bbs/NBA/index6503.html\">‹ 上頁</a>, <a class=\"btn wide disabled\">下頁 ›</a>, <a class=\"btn wide\" href=\"/bbs/NBA/index.html\">最新</a>, <a href=\"/bbs/NBA/M.1712562495.A.CAE.html\">[花邊] PG投出致勝分後，哈登表情憤怒!</a>, <a href=\"/bbs/NBA/search?q=thread%3A%5B%E8%8A%B1%E9%82%8A%5D+PG%E6%8A%95%E5%87%BA%E8%87%B4%E5%8B%9D%E5%88%86%E5%BE%8C%EF%BC%8C%E5%93%88%E7%99%BB%E8%A1%A8%E6%83%85%E6%86%A4%E6%80%92%21\">搜尋同標題文章</a>, <a href=\"/bbs/NBA/search?q=author%3ALBJnot1to7\">搜尋看板內 LBJnot1to7 的文章</a>, <a href=\"/bbs/NBA/M.1669686360.A.504.html\">[公告] 板規10.1</a>, <a href=\"/bbs/NBA/search?q=thread%3A%5B%E5%85%AC%E5%91%8A%5D+%E6%9D%BF%E8%A6%8F10.1\">搜尋同標題文章</a>, <a href=\"/bbs/NBA/search?q=author%3AEZ78\">搜尋看板內 EZ78 的文章</a>, <a href=\"/bbs/NBA/M.1711852000.A.0C9.html\">[情報] NBA Schedule 2023-24 (03/30~)</a>, <a href=\"/bbs/NBA/search?q=thread%3A%5B%E6%83%85%E5%A0%B1%5D+NBA+Schedule+2023-24+%2803%2F30~%29\">搜尋同標題文章</a>, <a href=\"/bbs/NBA/search?q=author%3Aguardyo\">搜尋看板內 guardyo 的文章</a>, <a href=\"/bbs/NBA/M.1712550348.A.EF9.html\">[情報] NBA Standings (Apr. 08, 2024)</a>, <a href=\"/bbs/NBA/search?q=thread%3A%5B%E6%83%85%E5%A0%B1%5D+NBA+Standings+%28Apr.+08%2C+2024%29\">搜尋同標題文章</a>, <a href=\"/bbs/NBA/search?q=author%3Aguardyo\">搜尋看板內 guardyo 的文章</a>, <a href=\"/bbs/NBA/M.1712551703.A.3EC.html\">[公告] 季後賽條款</a>, <a href=\"/bbs/NBA/search?q=thread%3A%5B%E5%85%AC%E5%91%8A%5D+%E5%AD%A3%E5%BE%8C%E8%B3%BD%E6%A2%9D%E6%AC%BE\">搜尋同標題文章</a>, <a href=\"/bbs/NBA/search?q=author%3AEZ78\">搜尋看板內 EZ78 的文章</a>]\n",
      "<a class=\"board\" href=\"/bbs/NBA/index.html\"><span class=\"board-label\">看板 </span>NBA</a>\n",
      "<a href=\"/bbs/\" id=\"logo\">批踢踢實業坊</a>\n"
     ]
    }
   ],
   "source": [
    "#以下透過CSS selector 取的元素\n",
    "#輸出title\n",
    "print(soup.select_one('title'))\n",
    "#輸出 a\n",
    "print(soup.select('a'))\n",
    "#透過class選擇器\n",
    "print(soup.select_one('a.board'))\n",
    "#透過id 選擇器取得元素\n",
    "print(soup.select_one('#logo'))"
   ]
  },
  {
   "cell_type": "code",
   "execution_count": 28,
   "id": "31385ee9-d40c-4c71-8533-c17d89aa4a7c",
   "metadata": {},
   "outputs": [
    {
     "name": "stdout",
     "output_type": "stream",
     "text": [
      "[<a class=\"btn wide\" href=\"/bbs/NBA/index1.html\">最舊</a>, <a class=\"btn wide\" href=\"/bbs/NBA/index6503.html\">‹ 上頁</a>, <a class=\"btn wide\" href=\"/bbs/NBA/index.html\">最新</a>]\n"
     ]
    }
   ],
   "source": [
    "#透過attribute選擇器取得元素\n",
    "print(soup.select('a[class= \"btn wide\"]'))"
   ]
  },
  {
   "cell_type": "code",
   "execution_count": null,
   "id": "6f6602d5-ee3d-45a8-93de-f04304e126e0",
   "metadata": {},
   "outputs": [],
   "source": []
  }
 ],
 "metadata": {
  "kernelspec": {
   "display_name": "Python 3 (ipykernel)",
   "language": "python",
   "name": "python3"
  },
  "language_info": {
   "codemirror_mode": {
    "name": "ipython",
    "version": 3
   },
   "file_extension": ".py",
   "mimetype": "text/x-python",
   "name": "python",
   "nbconvert_exporter": "python",
   "pygments_lexer": "ipython3",
   "version": "3.11.7"
  }
 },
 "nbformat": 4,
 "nbformat_minor": 5
}
