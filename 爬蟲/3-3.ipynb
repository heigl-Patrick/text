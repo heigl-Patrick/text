{
 "cells": [
  {
   "cell_type": "code",
   "execution_count": 4,
   "id": "a0e8684b-e39e-49fd-a623-1812d51cbb64",
   "metadata": {},
   "outputs": [
    {
     "name": "stdout",
     "output_type": "stream",
     "text": [
      "con"
     ]
    }
   ],
   "source": [
    "#break\n",
    "for string in 'content':\n",
    "    if string =='t':\n",
    "        break\n",
    "    print(string,end=\"\")"
   ]
  },
  {
   "cell_type": "code",
   "execution_count": 6,
   "id": "c8c6e799-047b-4765-a02b-4cd6e2608ac5",
   "metadata": {},
   "outputs": [
    {
     "name": "stdout",
     "output_type": "stream",
     "text": [
      "conen"
     ]
    }
   ],
   "source": [
    "#continue\n",
    "for string in 'content':\n",
    "    if string =='t':\n",
    "        continue\n",
    "    print(string,end=\"\")"
   ]
  },
  {
   "cell_type": "code",
   "execution_count": 7,
   "id": "88af2538-bde8-428f-9b2c-d60c347abb82",
   "metadata": {},
   "outputs": [
    {
     "name": "stdout",
     "output_type": "stream",
     "text": [
      "content"
     ]
    }
   ],
   "source": [
    "#pass\n",
    "for string in 'content':\n",
    "    if string =='t':\n",
    "        pass\n",
    "    print(string,end=\"\")"
   ]
  },
  {
   "cell_type": "code",
   "execution_count": null,
   "id": "4ca2ea4c-86fd-4688-8eec-94f71af1dcf5",
   "metadata": {},
   "outputs": [],
   "source": []
  }
 ],
 "metadata": {
  "kernelspec": {
   "display_name": "Python 3 (ipykernel)",
   "language": "python",
   "name": "python3"
  },
  "language_info": {
   "codemirror_mode": {
    "name": "ipython",
    "version": 3
   },
   "file_extension": ".py",
   "mimetype": "text/x-python",
   "name": "python",
   "nbconvert_exporter": "python",
   "pygments_lexer": "ipython3",
   "version": "3.11.7"
  }
 },
 "nbformat": 4,
 "nbformat_minor": 5
}
