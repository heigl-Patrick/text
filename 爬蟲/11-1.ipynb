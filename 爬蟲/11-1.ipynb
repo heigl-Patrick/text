{
 "cells": [
  {
   "cell_type": "code",
   "execution_count": 4,
   "id": "6b7583ee-b2b3-47bc-879c-0743bf2ac292",
   "metadata": {},
   "outputs": [],
   "source": [
    "import requests as rq\n",
    "from bs4 import BeautifulSoup as bs\n",
    "import pprint as pp\n",
    "#PTT NBA版\n",
    "url = \"https://www.ptt.cc/bbs/NBA/index.html\"\n",
    "#用requests的get方法取得html\n",
    "response = rq.get(url)\n",
    "#指定lxml作為解析器\n",
    "soup = bs(response.text,\"lxml\")\n"
   ]
  },
  {
   "cell_type": "code",
   "execution_count": 12,
   "id": "e58d553b-6195-45af-b3a4-05c7ebf32929",
   "metadata": {},
   "outputs": [
    {
     "name": "stdout",
     "output_type": "stream",
     "text": [
      "<a href=\"/bbs/\" id=\"logo\">批踢踢實業坊</a>\n",
      "==============================\n"
     ]
    }
   ],
   "source": [
    "#取得第一個<a><a>\n",
    "print(soup.find('a'))\n",
    "print(\"=\"  * 30)\n"
   ]
  },
  {
   "cell_type": "code",
   "execution_count": 7,
   "id": "a744a5dd-9c1a-41ac-be6b-89843c4e4481",
   "metadata": {},
   "outputs": [
    {
     "name": "stdout",
     "output_type": "stream",
     "text": [
      "[<a href=\"/bbs/\" id=\"logo\">批踢踢實業坊</a>,\n",
      " <a class=\"board\" href=\"/bbs/NBA/index.html\"><span class=\"board-label\">看板 </span>NBA</a>,\n",
      " <a class=\"right small\" href=\"/about.html\">關於我們</a>,\n",
      " <a class=\"right small\" href=\"/contact.html\">聯絡資訊</a>,\n",
      " <a class=\"btn selected\" href=\"/bbs/NBA/index.html\">看板</a>,\n",
      " <a class=\"btn\" href=\"/man/NBA/index.html\">精華區</a>,\n",
      " <a class=\"btn wide\" href=\"/bbs/NBA/index1.html\">最舊</a>,\n",
      " <a class=\"btn wide\" href=\"/bbs/NBA/index6501.html\">‹ 上頁</a>,\n",
      " <a class=\"btn wide disabled\">下頁 ›</a>,\n",
      " <a class=\"btn wide\" href=\"/bbs/NBA/index.html\">最新</a>,\n",
      " <a href=\"/bbs/NBA/M.1712528099.A.658.html\">[情報] 今天PG連打最後32:23 0休息</a>,\n",
      " <a href=\"/bbs/NBA/search?q=thread%3A%5B%E6%83%85%E5%A0%B1%5D+%E4%BB%8A%E5%A4%A9PG%E9%80%A3%E6%89%93%E6%9C%80%E5%BE%8C32%3A23+0%E4%BC%91%E6%81%AF\">搜尋同標題文章</a>,\n",
      " <a href=\"/bbs/NBA/search?q=author%3AEZ78\">搜尋看板內 EZ78 的文章</a>,\n",
      " <a href=\"/bbs/NBA/M.1712529002.A.16E.html\">[Live] 尼克 @ 公鹿</a>,\n",
      " <a href=\"/bbs/NBA/search?q=thread%3A%5BLive%5D+%E5%B0%BC%E5%85%8B+%40+%E5%85%AC%E9%B9%BF\">搜尋同標題文章</a>,\n",
      " <a href=\"/bbs/NBA/search?q=author%3Ablack1x2y3z\">搜尋看板內 black1x2y3z 的文章</a>,\n",
      " <a href=\"/bbs/NBA/M.1712529004.A.C39.html\">[Live] 76人 @ 馬刺</a>,\n",
      " <a href=\"/bbs/NBA/search?q=thread%3A%5BLive%5D+76%E4%BA%BA+%40+%E9%A6%AC%E5%88%BA\">搜尋同標題文章</a>,\n",
      " <a href=\"/bbs/NBA/search?q=author%3Ablack1x2y3z\">搜尋看板內 black1x2y3z 的文章</a>,\n",
      " <a href=\"/bbs/NBA/M.1712530429.A.F39.html\">[花邊] PG:我叫Ty Lue不要把我換下場</a>,\n",
      " <a href=\"/bbs/NBA/search?q=thread%3A%5B%E8%8A%B1%E9%82%8A%5D+PG%3A%E6%88%91%E5%8F%ABTy+Lue%E4%B8%8D%E8%A6%81%E6%8A%8A%E6%88%91%E6%8F%9B%E4%B8%8B%E5%A0%B4\">搜尋同標題文章</a>,\n",
      " <a href=\"/bbs/NBA/search?q=author%3AEZ78\">搜尋看板內 EZ78 的文章</a>,\n",
      " <a href=\"/bbs/NBA/M.1712530552.A.D5C.html\">[情報] LeBron James 今天不打</a>,\n",
      " <a href=\"/bbs/NBA/search?q=thread%3A%5B%E6%83%85%E5%A0%B1%5D+LeBron+James+%E4%BB%8A%E5%A4%A9%E4%B8%8D%E6%89%93\">搜尋同標題文章</a>,\n",
      " <a href=\"/bbs/NBA/search?q=author%3ALukaDoncic77\">搜尋看板內 LukaDoncic77 的文章</a>,\n",
      " <a href=\"/bbs/NBA/M.1712530802.A.3DC.html\">[Live] 國王 @ 籃網</a>,\n",
      " <a href=\"/bbs/NBA/search?q=thread%3A%5BLive%5D+%E5%9C%8B%E7%8E%8B+%40+%E7%B1%83%E7%B6%B2\">搜尋同標題文章</a>,\n",
      " <a href=\"/bbs/NBA/search?q=author%3Ablack1x2y3z\">搜尋看板內 black1x2y3z 的文章</a>,\n",
      " <a href=\"/bbs/NBA/M.1712532347.A.292.html\">[情報] 勇士隊晉級附加賽  火箭隊正式淘汰</a>,\n",
      " <a href=\"/bbs/NBA/search?q=thread%3A%5B%E6%83%85%E5%A0%B1%5D+%E5%8B%87%E5%A3%AB%E9%9A%8A%E6%99%89%E7%B4%9A%E9%99%84%E5%8A%A0%E8%B3%BD++%E7%81%AB%E7%AE%AD%E9%9A%8A%E6%AD%A3%E5%BC%8F%E6%B7%98%E6%B1%B0\">搜尋同標題文章</a>,\n",
      " <a href=\"/bbs/NBA/search?q=author%3Athnlkj0665\">搜尋看板內 thnlkj0665 的文章</a>,\n",
      " <a href=\"/bbs/NBA/M.1712533271.A.DDF.html\">[BOX ] Rockets 136:147 Mavericks 數據</a>,\n",
      " <a href=\"/bbs/NBA/search?q=thread%3A%5BBOX+%5D+Rockets+136%3A147+Mavericks+%E6%95%B8%E6%93%9A\">搜尋同標題文章</a>,\n",
      " <a href=\"/bbs/NBA/search?q=author%3ARambo\">搜尋看板內 Rambo 的文章</a>,\n",
      " <a href=\"/bbs/NBA/M.1712533960.A.BAE.html\">[BOX ] Cavaliers 118:120 Clippers 數據</a>,\n",
      " <a href=\"/bbs/NBA/search?q=thread%3A%5BBOX+%5D+Cavaliers+118%3A120+Clippers+%E6%95%B8%E6%93%9A\">搜尋同標題文章</a>,\n",
      " <a href=\"/bbs/NBA/search?q=author%3ARambo\">搜尋看板內 Rambo 的文章</a>,\n",
      " <a href=\"/bbs/NBA/M.1712534334.A.487.html\">[BOX ] Heat 115:117 Pacers 數據</a>,\n",
      " <a href=\"/bbs/NBA/search?q=thread%3A%5BBOX+%5D+Heat+115%3A117+Pacers+%E6%95%B8%E6%93%9A\">搜尋同標題文章</a>,\n",
      " <a href=\"/bbs/NBA/search?q=author%3ARambo\">搜尋看板內 Rambo 的文章</a>,\n",
      " <a href=\"/bbs/NBA/M.1712534403.A.4B3.html\">[Live] 爵士 @ 勇士</a>,\n",
      " <a href=\"/bbs/NBA/search?q=thread%3A%5BLive%5D+%E7%88%B5%E5%A3%AB+%40+%E5%8B%87%E5%A3%AB\">搜尋同標題文章</a>,\n",
      " <a href=\"/bbs/NBA/search?q=author%3Ablack1x2y3z\">搜尋看板內 black1x2y3z 的文章</a>,\n",
      " <a href=\"/bbs/NBA/M.1712534643.A.C9B.html\">[BOX ] Blazers 107:124 Celtics 數據</a>,\n",
      " <a href=\"/bbs/NBA/search?q=thread%3A%5BBOX+%5D+Blazers+107%3A124+Celtics+%E6%95%B8%E6%93%9A\">搜尋同標題文章</a>,\n",
      " <a href=\"/bbs/NBA/search?q=author%3ARambo\">搜尋看板內 Rambo 的文章</a>,\n",
      " <a href=\"/bbs/NBA/M.1712535669.A.E0E.html\">[情報] Jaylen Brown達成生涯一萬分</a>,\n",
      " <a href=\"/bbs/NBA/search?q=thread%3A%5B%E6%83%85%E5%A0%B1%5D+Jaylen+Brown%E9%81%94%E6%88%90%E7%94%9F%E6%B6%AF%E4%B8%80%E8%90%AC%E5%88%86\">搜尋同標題文章</a>,\n",
      " <a href=\"/bbs/NBA/search?q=author%3Ajeff1013\">搜尋看板內 jeff1013 的文章</a>,\n",
      " <a href=\"/bbs/NBA/M.1712535846.A.3CB.html\">[BOX ] Pelicans 113:105 Suns 數據</a>,\n",
      " <a href=\"/bbs/NBA/search?q=thread%3A%5BBOX+%5D+Pelicans+113%3A105+Suns+%E6%95%B8%E6%93%9A\">搜尋同標題文章</a>,\n",
      " <a href=\"/bbs/NBA/search?q=author%3ARambo\">搜尋看板內 Rambo 的文章</a>,\n",
      " <a href=\"/bbs/NBA/M.1669686360.A.504.html\">[公告] 板規10.1</a>,\n",
      " <a href=\"/bbs/NBA/search?q=thread%3A%5B%E5%85%AC%E5%91%8A%5D+%E6%9D%BF%E8%A6%8F10.1\">搜尋同標題文章</a>,\n",
      " <a href=\"/bbs/NBA/search?q=author%3AEZ78\">搜尋看板內 EZ78 的文章</a>,\n",
      " <a href=\"/bbs/NBA/M.1711852000.A.0C9.html\">[情報] NBA Schedule 2023-24 (03/30~)</a>,\n",
      " <a href=\"/bbs/NBA/search?q=thread%3A%5B%E6%83%85%E5%A0%B1%5D+NBA+Schedule+2023-24+%2803%2F30~%29\">搜尋同標題文章</a>,\n",
      " <a href=\"/bbs/NBA/search?q=author%3Aguardyo\">搜尋看板內 guardyo 的文章</a>,\n",
      " <a href=\"/bbs/NBA/M.1712188647.A.F93.html\">Fw: [公告] EarthQuake43 地震專板討論</a>,\n",
      " <a href=\"/bbs/NBA/search?q=thread%3A%5B%E5%85%AC%E5%91%8A%5D+EarthQuake43+%E5%9C%B0%E9%9C%87%E5%B0%88%E6%9D%BF%E8%A8%8E%E8%AB%96\">搜尋同標題文章</a>,\n",
      " <a href=\"/bbs/NBA/search?q=author%3Apneumo\">搜尋看板內 pneumo 的文章</a>,\n",
      " <a href=\"/bbs/NBA/M.1712460540.A.0D9.html\">[情報] NBA Standings (Apr. 07, 2024)</a>,\n",
      " <a href=\"/bbs/NBA/search?q=thread%3A%5B%E6%83%85%E5%A0%B1%5D+NBA+Standings+%28Apr.+07%2C+2024%29\">搜尋同標題文章</a>,\n",
      " <a href=\"/bbs/NBA/search?q=author%3Aguardyo\">搜尋看板內 guardyo 的文章</a>,\n",
      " <a href=\"/bbs/NBA/M.1712462948.A.6F4.html\">[公告] NBA 板 開始舉辦樂透!</a>,\n",
      " <a href=\"/bbs/NBA/search?q=thread%3A%5B%E5%85%AC%E5%91%8A%5D+NBA+%E6%9D%BF+%E9%96%8B%E5%A7%8B%E8%88%89%E8%BE%A6%E6%A8%82%E9%80%8F%21\">搜尋同標題文章</a>,\n",
      " <a href=\"/bbs/NBA/search?q=author%3AZIDENS\">搜尋看板內 ZIDENS 的文章</a>]\n",
      "=\n"
     ]
    }
   ],
   "source": [
    "#取得全部<a><a>,此時回傳給list\n",
    "pp.pprint(soup.find_all('a'))\n",
    "print(\"=\" * 1)\n"
   ]
  },
  {
   "cell_type": "code",
   "execution_count": 13,
   "id": "b20cc50e-f877-4e8f-9c9f-670cf4dabdcb",
   "metadata": {},
   "outputs": [
    {
     "name": "stdout",
     "output_type": "stream",
     "text": [
      "<a class=\"right small\" href=\"/about.html\">關於我們</a>\n"
     ]
    }
   ],
   "source": [
    "#指定list某個元素的html\n",
    "pp.pprint(soup.find_all('a')[2])\n"
   ]
  },
  {
   "cell_type": "code",
   "execution_count": null,
   "id": "51882f03-9e2c-4508-a40c-f342b1201209",
   "metadata": {},
   "outputs": [],
   "source": []
  }
 ],
 "metadata": {
  "kernelspec": {
   "display_name": "Python 3 (ipykernel)",
   "language": "python",
   "name": "python3"
  },
  "language_info": {
   "codemirror_mode": {
    "name": "ipython",
    "version": 3
   },
   "file_extension": ".py",
   "mimetype": "text/x-python",
   "name": "python",
   "nbconvert_exporter": "python",
   "pygments_lexer": "ipython3",
   "version": "3.11.7"
  }
 },
 "nbformat": 4,
 "nbformat_minor": 5
}
