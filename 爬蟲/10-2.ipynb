{
 "cells": [
  {
   "cell_type": "code",
   "execution_count": 1,
   "id": "d1785628-8e94-4ec3-a494-17f8a62f0e84",
   "metadata": {},
   "outputs": [],
   "source": [
    "#匯入requests 軟件\n",
    "import requests"
   ]
  },
  {
   "cell_type": "code",
   "execution_count": 2,
   "id": "95aed12e-f103-45a1-a5a4-ae7a40a575e9",
   "metadata": {},
   "outputs": [
    {
     "ename": "SyntaxError",
     "evalue": "expression expected after dictionary key and ':' (1262974322.py, line 2)",
     "output_type": "error",
     "traceback": [
      "\u001b[1;36m  Cell \u001b[1;32mIn[2], line 2\u001b[1;36m\u001b[0m\n\u001b[1;33m    'user-agent':\u001b[0m\n\u001b[1;37m                ^\u001b[0m\n\u001b[1;31mSyntaxError\u001b[0m\u001b[1;31m:\u001b[0m expression expected after dictionary key and ':'\n"
     ]
    }
   ],
   "source": [
    "my_hearders = {\n",
    "    'user-agent':\n",
    "}\n",
    "r = requests.get('https://httpbin.org/get',hearder = my_headers)\n",
    "\n",
    "#輸出json\n",
    "print(r,text)\n"
   ]
  },
  {
   "cell_type": "code",
   "execution_count": 4,
   "id": "aa7d8934-3cf9-4055-b1c8-972789291c71",
   "metadata": {},
   "outputs": [
    {
     "name": "stdout",
     "output_type": "stream",
     "text": [
      "{\n",
      "  \"args\": {}, \n",
      "  \"headers\": {\n",
      "    \"Accept\": \"*/*\", \n",
      "    \"Accept-Encoding\": \"gzip, deflate, br, zstd\", \n",
      "    \"Cookie\": \"first_cookie=hello; second_coolie=world\", \n",
      "    \"Host\": \"httpbin.org\", \n",
      "    \"User-Agent\": \"python-requests/2.31.0\", \n",
      "    \"X-Amzn-Trace-Id\": \"Root=1-66131968-6d1963610598734c1c7aa5f7\"\n",
      "  }, \n",
      "  \"origin\": \"49.216.40.12\", \n",
      "  \"url\": \"https://httpbin.org/get\"\n",
      "}\n",
      "\n"
     ]
    }
   ],
   "source": [
    "#自訂cookie 格式\n",
    "my_cookies = {\n",
    "    \"first_cookie\":\"hello\",\n",
    "    \"second_coolie\":\"world\"\n",
    "}\n",
    "#將cookies加入GET請求\n",
    "r= requests.get('https://httpbin.org/get',cookies = my_cookies)\n",
    "#輸出json\n",
    "print(r.text)\n"
   ]
  },
  {
   "cell_type": "code",
   "execution_count": null,
   "id": "d6ae2660-4ee7-453c-b79f-e30f8f3e9141",
   "metadata": {},
   "outputs": [],
   "source": []
  }
 ],
 "metadata": {
  "kernelspec": {
   "display_name": "Python 3 (ipykernel)",
   "language": "python",
   "name": "python3"
  },
  "language_info": {
   "codemirror_mode": {
    "name": "ipython",
    "version": 3
   },
   "file_extension": ".py",
   "mimetype": "text/x-python",
   "name": "python",
   "nbconvert_exporter": "python",
   "pygments_lexer": "ipython3",
   "version": "3.11.7"
  }
 },
 "nbformat": 4,
 "nbformat_minor": 5
}
