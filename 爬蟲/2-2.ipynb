{
 "cells": [
  {
   "cell_type": "code",
   "execution_count": 33,
   "id": "ee5b397a-d948-470c-8566-a9465ab281c9",
   "metadata": {},
   "outputs": [
    {
     "name": "stdout",
     "output_type": "stream",
     "text": [
      "[1, 2, 3, 4, 5, 6]\n"
     ]
    }
   ],
   "source": [
    "#初始劃一個list\n",
    "ids = [1, 2, 3, 4, 5, 6]\n",
    "print(ids)"
   ]
  },
  {
   "cell_type": "code",
   "execution_count": 34,
   "id": "7393b045-0b1f-4b4b-a30e-f5fc3d0e43cd",
   "metadata": {},
   "outputs": [
    {
     "name": "stdout",
     "output_type": "stream",
     "text": [
      "[1, 2, 3, 4, 5, 6, 7]\n"
     ]
    }
   ],
   "source": [
    "#新增元素在list尾端\n",
    "ids.append(7)\n",
    "print(ids)"
   ]
  },
  {
   "cell_type": "code",
   "execution_count": 35,
   "id": "02bd730a-f583-4846-88ea-8052a7a0a8f2",
   "metadata": {},
   "outputs": [
    {
     "name": "stdout",
     "output_type": "stream",
     "text": [
      "[1, 2, 3, 4, 99, 6, 7]\n"
     ]
    }
   ],
   "source": [
    "#修改索引位置的元素\n",
    "ids[4] = 99\n",
    "print(ids)"
   ]
  },
  {
   "cell_type": "code",
   "execution_count": 36,
   "id": "819d31d4-2d60-4d2f-aa6b-8af468076855",
   "metadata": {},
   "outputs": [
    {
     "name": "stdout",
     "output_type": "stream",
     "text": [
      "[1, 2, 3, 4, 6, 7]\n"
     ]
    }
   ],
   "source": [
    "#刪除索引位置的元素\n",
    "ids.pop(4)\n",
    "print(ids)"
   ]
  },
  {
   "cell_type": "code",
   "execution_count": 37,
   "id": "3d961c78-7f0a-4d96-9d43-ab5cb05d08f0",
   "metadata": {},
   "outputs": [
    {
     "name": "stdout",
     "output_type": "stream",
     "text": [
      "[1, 9, 2, 3, 4, 6, 7]\n"
     ]
    }
   ],
   "source": [
    "#新增元素在指定索引，其餘元素往後移\n",
    "ids.insert(1, 9)\n",
    "print(ids)"
   ]
  },
  {
   "cell_type": "code",
   "execution_count": 38,
   "id": "2956b570-592d-4c32-8e5f-58a2d91efe5f",
   "metadata": {},
   "outputs": [
    {
     "name": "stdout",
     "output_type": "stream",
     "text": [
      "[1, 2, 3, 4, 6, 7]\n"
     ]
    }
   ],
   "source": [
    "#移除指定的值\n",
    "ids.remove(9)\n",
    "print(ids)"
   ]
  },
  {
   "cell_type": "code",
   "execution_count": 39,
   "id": "ef7ff270-2a74-464f-8239-11dfb2369709",
   "metadata": {},
   "outputs": [],
   "source": [
    "#初始畫一個字串\n",
    "mystring = \"Hello,world!\""
   ]
  },
  {
   "cell_type": "code",
   "execution_count": 43,
   "id": "2c11f7f0-ff83-47ce-b25e-c7546330a44c",
   "metadata": {},
   "outputs": [
    {
     "name": "stdout",
     "output_type": "stream",
     "text": [
      "Hello\n",
      "orld!\n",
      "or\n"
     ]
    }
   ],
   "source": [
    "#從頭取到5(不包含所引為5的元素)\n",
    "print(mystring[:5] )\n",
    "#從7取到尾\n",
    "print(mystring[7:])\n",
    "#從7取到9(不包含所引為9的元素)\n",
    "print(mystring[7:9])"
   ]
  },
  {
   "cell_type": "code",
   "execution_count": null,
   "id": "923f9ac1-7523-41c3-8f53-e681e5102b7e",
   "metadata": {},
   "outputs": [],
   "source": []
  }
 ],
 "metadata": {
  "kernelspec": {
   "display_name": "Python 3 (ipykernel)",
   "language": "python",
   "name": "python3"
  },
  "language_info": {
   "codemirror_mode": {
    "name": "ipython",
    "version": 3
   },
   "file_extension": ".py",
   "mimetype": "text/x-python",
   "name": "python",
   "nbconvert_exporter": "python",
   "pygments_lexer": "ipython3",
   "version": "3.11.7"
  }
 },
 "nbformat": 4,
 "nbformat_minor": 5
}
