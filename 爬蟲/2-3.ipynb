{
 "cells": [
  {
   "cell_type": "code",
   "execution_count": 1,
   "id": "28d89622-9a2a-4e60-a1e9-75ee0464636d",
   "metadata": {},
   "outputs": [
    {
     "name": "stdout",
     "output_type": "stream",
     "text": [
      "{'蘋果': 100, '橘子': 20, '水梨': 50}\n"
     ]
    }
   ],
   "source": [
    "#初始化 dict =>{水果名稱1 : 價格1, \"水果名稱2\": \"價格2\",....}\n",
    "dict01 = {\"蘋果\": 100,\"橘子\": 20,\"水梨\": 50}\n",
    "print(dict01)"
   ]
  },
  {
   "cell_type": "code",
   "execution_count": 3,
   "id": "fbf23e65-9059-4e35-9f3c-80b791b6a412",
   "metadata": {},
   "outputs": [
    {
     "name": "stdout",
     "output_type": "stream",
     "text": [
      "100\n"
     ]
    }
   ],
   "source": [
    "#印出蘋果的價格\n",
    "print(dict01['蘋果'])"
   ]
  },
  {
   "cell_type": "code",
   "execution_count": 5,
   "id": "95f74730-6024-4749-8541-79fe04e80f7d",
   "metadata": {},
   "outputs": [
    {
     "name": "stdout",
     "output_type": "stream",
     "text": [
      "{'蘋果': 100, '橘子': 30, '水梨': 50}\n"
     ]
    }
   ],
   "source": [
    "#修改橘子價錢\n",
    "dict01['橘子'] = 30\n",
    "print(dict01)"
   ]
  },
  {
   "cell_type": "code",
   "execution_count": 7,
   "id": "f99209ba-3dde-4008-bd69-b23a1aacea88",
   "metadata": {},
   "outputs": [
    {
     "name": "stdout",
     "output_type": "stream",
     "text": [
      "{'蘋果': 100, '橘子': 30}\n"
     ]
    }
   ],
   "source": [
    "#刪除水梨\n",
    "del dict01['水梨']\n",
    "print(dict01)"
   ]
  },
  {
   "cell_type": "code",
   "execution_count": null,
   "id": "fccb289d-0542-403e-9528-b4544d2d7d91",
   "metadata": {},
   "outputs": [],
   "source": []
  }
 ],
 "metadata": {
  "kernelspec": {
   "display_name": "Python 3 (ipykernel)",
   "language": "python",
   "name": "python3"
  },
  "language_info": {
   "codemirror_mode": {
    "name": "ipython",
    "version": 3
   },
   "file_extension": ".py",
   "mimetype": "text/x-python",
   "name": "python",
   "nbconvert_exporter": "python",
   "pygments_lexer": "ipython3",
   "version": "3.11.7"
  }
 },
 "nbformat": 4,
 "nbformat_minor": 5
}
