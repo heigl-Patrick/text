{
 "cells": [
  {
   "cell_type": "code",
   "execution_count": 1,
   "id": "560c4204-0bb1-451e-a62f-3033ad34ebd7",
   "metadata": {},
   "outputs": [],
   "source": [
    "from bs4 import BeautifulSoup as bs\n",
    "import requests as rq"
   ]
  },
  {
   "cell_type": "code",
   "execution_count": 2,
   "id": "87b4271d-6f3a-4a86-b864-5e90185123d1",
   "metadata": {},
   "outputs": [],
   "source": [
    "url = 'https://www.iii.org.tw/Press/NewsList.aspx?fm_sqno=14'\n",
    "response = rq.get(url)\n",
    "soup = bs(response.text,\"lxml\")"
   ]
  },
  {
   "cell_type": "code",
   "execution_count": 9,
   "id": "931469d2-332c-48a9-88cf-8d3d983cffaa",
   "metadata": {},
   "outputs": [
    {
     "name": "stdout",
     "output_type": "stream",
     "text": [
      "[]\n"
     ]
    }
   ],
   "source": [
    "#建立list來放是新聞連結\n",
    "list_news = []\n",
    "#取得a的連結\n",
    "for a in soup.select('acticle div.classlist div.thebottom div.newstitle a'):\n",
    "    list_news.append(a['href'])\n",
    "print(list_news)"
   ]
  },
  {
   "cell_type": "code",
   "execution_count": null,
   "id": "fc8c63d2-a00f-4320-a5c5-9a40b2131034",
   "metadata": {},
   "outputs": [],
   "source": []
  }
 ],
 "metadata": {
  "kernelspec": {
   "display_name": "Python 3 (ipykernel)",
   "language": "python",
   "name": "python3"
  },
  "language_info": {
   "codemirror_mode": {
    "name": "ipython",
    "version": 3
   },
   "file_extension": ".py",
   "mimetype": "text/x-python",
   "name": "python",
   "nbconvert_exporter": "python",
   "pygments_lexer": "ipython3",
   "version": "3.11.7"
  }
 },
 "nbformat": 4,
 "nbformat_minor": 5
}
