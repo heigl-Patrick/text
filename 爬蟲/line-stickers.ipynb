{
 "cells": [
  {
   "cell_type": "code",
   "execution_count": 49,
   "id": "32a5009d-fba6-4381-9ca5-742b3190e044",
   "metadata": {},
   "outputs": [
    {
     "name": "stdout",
     "output_type": "stream",
     "text": [
      "貼圖ID:664604222,下載連結: https://stickershop.line-scdn.net/stickershop/v1/sticker/664604222/iPhone/sticker_animation@2x.png?v=1\n",
      "貼圖ID:664604223,下載連結: https://stickershop.line-scdn.net/stickershop/v1/sticker/664604223/iPhone/sticker_animation@2x.png?v=1\n",
      "貼圖ID:664604224,下載連結: https://stickershop.line-scdn.net/stickershop/v1/sticker/664604224/iPhone/sticker_animation@2x.png?v=1\n",
      "貼圖ID:664604225,下載連結: https://stickershop.line-scdn.net/stickershop/v1/sticker/664604225/iPhone/sticker_animation@2x.png?v=1\n",
      "貼圖ID:664604226,下載連結: https://stickershop.line-scdn.net/stickershop/v1/sticker/664604226/iPhone/sticker_animation@2x.png?v=1\n",
      "貼圖ID:664604227,下載連結: https://stickershop.line-scdn.net/stickershop/v1/sticker/664604227/iPhone/sticker_animation@2x.png?v=1\n",
      "貼圖ID:664604228,下載連結: https://stickershop.line-scdn.net/stickershop/v1/sticker/664604228/iPhone/sticker_animation@2x.png?v=1\n",
      "貼圖ID:664604229,下載連結: https://stickershop.line-scdn.net/stickershop/v1/sticker/664604229/iPhone/sticker_animation@2x.png?v=1\n",
      "貼圖ID:664604230,下載連結: https://stickershop.line-scdn.net/stickershop/v1/sticker/664604230/iPhone/sticker_animation@2x.png?v=1\n",
      "貼圖ID:664604231,下載連結: https://stickershop.line-scdn.net/stickershop/v1/sticker/664604231/iPhone/sticker_animation@2x.png?v=1\n",
      "貼圖ID:664604232,下載連結: https://stickershop.line-scdn.net/stickershop/v1/sticker/664604232/iPhone/sticker_animation@2x.png?v=1\n",
      "貼圖ID:664604233,下載連結: https://stickershop.line-scdn.net/stickershop/v1/sticker/664604233/iPhone/sticker_animation@2x.png?v=1\n",
      "貼圖ID:664604234,下載連結: https://stickershop.line-scdn.net/stickershop/v1/sticker/664604234/iPhone/sticker_animation@2x.png?v=1\n",
      "貼圖ID:664604235,下載連結: https://stickershop.line-scdn.net/stickershop/v1/sticker/664604235/iPhone/sticker_animation@2x.png?v=1\n",
      "貼圖ID:664604236,下載連結: https://stickershop.line-scdn.net/stickershop/v1/sticker/664604236/iPhone/sticker_animation@2x.png?v=1\n",
      "貼圖ID:664604237,下載連結: https://stickershop.line-scdn.net/stickershop/v1/sticker/664604237/iPhone/sticker_animation@2x.png?v=1\n",
      "貼圖ID:664604238,下載連結: https://stickershop.line-scdn.net/stickershop/v1/sticker/664604238/iPhone/sticker_animation@2x.png?v=1\n",
      "貼圖ID:664604239,下載連結: https://stickershop.line-scdn.net/stickershop/v1/sticker/664604239/iPhone/sticker_animation@2x.png?v=1\n",
      "貼圖ID:664604240,下載連結: https://stickershop.line-scdn.net/stickershop/v1/sticker/664604240/iPhone/sticker_animation@2x.png?v=1\n",
      "貼圖ID:664604241,下載連結: https://stickershop.line-scdn.net/stickershop/v1/sticker/664604241/iPhone/sticker_animation@2x.png?v=1\n",
      "貼圖ID:664604242,下載連結: https://stickershop.line-scdn.net/stickershop/v1/sticker/664604242/iPhone/sticker_animation@2x.png?v=1\n",
      "貼圖ID:664604243,下載連結: https://stickershop.line-scdn.net/stickershop/v1/sticker/664604243/iPhone/sticker_animation@2x.png?v=1\n",
      "貼圖ID:664604244,下載連結: https://stickershop.line-scdn.net/stickershop/v1/sticker/664604244/iPhone/sticker_animation@2x.png?v=1\n",
      "貼圖ID:664604245,下載連結: https://stickershop.line-scdn.net/stickershop/v1/sticker/664604245/iPhone/sticker_animation@2x.png?v=1\n"
     ]
    }
   ],
   "source": [
    "import requests as rq\n",
    "import pprint, os, json\n",
    "from bs4 import BeautifulSoup as bs\n",
    "#建立儲存圖片的資料夾，不存在，就新增\n",
    "folderPath = 'line_stickers'\n",
    "if not os.path.exists(folderPath):\n",
    "    os.makedirs(folderPath)\n",
    "listLineStickers = []\n",
    "\n",
    "my_headers = {\n",
    "    'user-agent': 'Mozilla/5.0 (Windows NT 10.0; Win64; x64) AppleWebKit/537.36 (KHTML, like Gecko) Chrome/123.0.0.0 Safari/537.36'\n",
    "} # 這是正確的寫法\n",
    "url = 'https://store.line.me/stickershop/product/30924/zh-Hant'\n",
    "response = rq.get(url, headers = my_headers)\n",
    "\n",
    "soup = bs(response.text,\"lxml\")\n",
    "#取得li元素\n",
    "li_elements = soup.select('ul.mdCMN09Ul.FnStickerList > li.mdCMN09Li.FnStickerPreviewItem')\n",
    "for li in li_elements:\n",
    "    #取得data-preview屬性質\n",
    "    strJson = li['data-preview']\n",
    "    #把屬性直轉成物件\n",
    "    obj = json.loads(strJson)\n",
    "    #重要的資訊放置在list當中，幫助我們稍後進行資料下載與儲存\n",
    "    listLineStickers.append(obj)\n",
    "\n",
    "for obj in  listLineStickers:\n",
    "    os.system(f\"curl {obj['animationUrl']} -o {folderPath}/{obj['id']}.png\")\n",
    "    print(f\"貼圖ID:{obj['id']},下載連結: {obj['animationUrl']}\")\n",
    " "
   ]
  },
  {
   "cell_type": "code",
   "execution_count": null,
   "id": "e6ab6115-5df9-4678-99d6-5ec03297ec5a",
   "metadata": {},
   "outputs": [],
   "source": []
  },
  {
   "cell_type": "code",
   "execution_count": null,
   "id": "85e04edb-f8aa-4a08-b170-c625f6c2eefa",
   "metadata": {},
   "outputs": [],
   "source": []
  }
 ],
 "metadata": {
  "kernelspec": {
   "display_name": "Python 3 (ipykernel)",
   "language": "python",
   "name": "python3"
  },
  "language_info": {
   "codemirror_mode": {
    "name": "ipython",
    "version": 3
   },
   "file_extension": ".py",
   "mimetype": "text/x-python",
   "name": "python",
   "nbconvert_exporter": "python",
   "pygments_lexer": "ipython3",
   "version": "3.11.7"
  }
 },
 "nbformat": 4,
 "nbformat_minor": 5
}
