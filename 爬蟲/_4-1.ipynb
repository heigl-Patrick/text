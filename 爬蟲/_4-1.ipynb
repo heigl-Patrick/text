{
 "cells": [
  {
   "cell_type": "code",
   "execution_count": 1,
   "id": "cef8ad7d-e068-43c5-89dd-7c329d9281fd",
   "metadata": {},
   "outputs": [],
   "source": [
    "#匯入套件\n",
    "from urllib import parse"
   ]
  },
  {
   "cell_type": "code",
   "execution_count": 7,
   "id": "d8fdc340-61d7-4eca-a1b3-4cc2441dbb18",
   "metadata": {},
   "outputs": [
    {
     "name": "stdout",
     "output_type": "stream",
     "text": [
      "https://www.104.com.tw/jobs/search/?\n"
     ]
    }
   ],
   "source": [
    "#產生url\n",
    "string = 'https://www.104.com.tw/jobs/search/?'\n",
    "query = {\n",
    "    'ro':1,\n",
    "    'kwop':7,\n",
    "    'keyword': 'python',\n",
    "    'order':13,\n",
    "    'ace':0,\n",
    "    'page':1,\n",
    "    'mode':'s',\n",
    "    'jobsource':'2018indexpoc'\n",
    "}\n",
    "result = string + parse.urlencode(query)\n",
    "print(result)"
   ]
  },
  {
   "cell_type": "code",
   "execution_count": 16,
   "id": "fd2eb92f-d99d-4bf9-a870-4b8532199516",
   "metadata": {},
   "outputs": [
    {
     "name": "stdout",
     "output_type": "stream",
     "text": [
      "https://cons.judicial.gov.tw/docdata.aspx?fid=100&id=325335\n"
     ]
    }
   ],
   "source": [
    "string = 'https://cons.judicial.gov.tw/docdata.aspx?'\n",
    "query = {\n",
    "    'fid':100,\n",
    "    'id':325335,\n",
    "}\n",
    "result = string + parse.urlencode(query)\n",
    "print(result)"
   ]
  },
  {
   "cell_type": "code",
   "execution_count": 19,
   "id": "b3bef086-a88e-4621-b023-dd0314c4b5e1",
   "metadata": {},
   "outputs": [
    {
     "name": "stdout",
     "output_type": "stream",
     "text": [
      "https://cons.judicial.gov.tw/docdata.aspx?fid=100&id=325335\n"
     ]
    }
   ],
   "source": [
    "fit = 100\n",
    "id = 325335\n",
    "result = f\"https://cons.judicial.gov.tw/docdata.aspx?fid={fit}&id={id}\"\n",
    "print(result)"
   ]
  },
  {
   "cell_type": "code",
   "execution_count": null,
   "id": "1a47b3fc-f4e7-4a3f-90f8-656a04c17ae5",
   "metadata": {},
   "outputs": [],
   "source": []
  }
 ],
 "metadata": {
  "kernelspec": {
   "display_name": "Python 3 (ipykernel)",
   "language": "python",
   "name": "python3"
  },
  "language_info": {
   "codemirror_mode": {
    "name": "ipython",
    "version": 3
   },
   "file_extension": ".py",
   "mimetype": "text/x-python",
   "name": "python",
   "nbconvert_exporter": "python",
   "pygments_lexer": "ipython3",
   "version": "3.11.7"
  }
 },
 "nbformat": 4,
 "nbformat_minor": 5
}
